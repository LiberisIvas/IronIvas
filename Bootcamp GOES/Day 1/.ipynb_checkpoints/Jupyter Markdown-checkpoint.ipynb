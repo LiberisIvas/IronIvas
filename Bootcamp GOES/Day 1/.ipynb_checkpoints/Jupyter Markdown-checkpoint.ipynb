{
 "cells": [
  {
   "cell_type": "markdown",
   "metadata": {},
   "source": [
    "# My Favorite Game"
   ]
  },
  {
   "cell_type": "markdown",
   "metadata": {},
   "source": [
    "> This is a picture of me -->\n",
    "> You can also get to know me -->\n",
    "> Maybe you will find you my favorite game --?"
   ]
  },
  {
   "cell_type": "code",
   "execution_count": 9,
   "metadata": {},
   "outputs": [
    {
     "name": "stdout",
     "output_type": "stream",
     "text": [
      "what is my name? ivas\n"
     ]
    },
    {
     "data": {
      "text/plain": [
       "'ivas'"
      ]
     },
     "execution_count": 9,
     "metadata": {},
     "output_type": "execute_result"
    }
   ],
   "source": [
    "def name():\n",
    "    myname = input(\"what is my name? \")\n",
    "    return myname\n",
    "name()"
   ]
  },
  {
   "cell_type": "markdown",
   "metadata": {},
   "source": [
    "![alt text](data:data:image/jpeg;base64,/9j/4AAQSkZJRgABAQAAAQABAAD/2wCEAAoHCBAPDxISEhASCRIKDBkMDAsLDB4JGA8LJCAmJiQgIyMoLS0xKCspLCMjMjcyKS4wNDQ0JzA5Pzk/Pi0yNDABCwsLEA8QGxISGDIcGiAyMjIyMDIwMjIyPjA+MDIyMDIyMjIyPjIyMDIyMjIyMjA+PjIwMjAwMDAwPj4wPj4wMP/AABEIAKAAoAMBIgACEQEDEQH/xAAbAAACAwEBAQAAAAAAAAAAAAAEBQIDBgEAB//EADUQAAIBAwMDAwMCBQQCAwAAAAECEQADEgQhMRMiQQVRYTJxgZGhBhQjQsEzUrHR4fAVJEP/xAAaAQADAQEBAQAAAAAAAAAAAAADBAUCAQYA/8QAKBEAAgICAgIBAwUBAQAAAAAAAQIAEQMhEjEEQVETImEycZGh4YEj/9oADAMBAAIRAxEAPwBO7wNyDB3X2qVtZgtuG4jg+1c0FliWZh23Gm2xbIu0ST9qJYAsPeSTtz4/zVHE4Zbk7InE6E6BAzmShBw8iOPxULrveZrjAIbqm50xyfA/UT+lTcDJJJIW5LKnd2+Z2ipXEyaSz9i4KGYNG/PHMUP6TtlDXob/AMmy6jGQRsyCaUuUK7rgetcZt+p4AHPFQwCKSB2Ju+IyK/8AczVuoLoLa5reR4BRW6bho322Bj3NFWAHVisXMItyLYUo088/gmPPzQB5P02IY6J9zZxFwCvYEG09yVDqembbkqEH1KdoH2rlvRoojdW6vUtjxgRBI8kgyfzR17TwEARbbAw+b4B3nknxP2onU2nQC0oWwykXkuZFg/EoDwRtxG80rm8ri3FRXuxC4sVj7t1Flm2l1SBkroCuZXGY8zwass6FlVQylstyxXAOxM/4H6VEeq2bLQ7/AMuQhtajE5ZN4JHz7Uuf+IbQChGuXIbC4nTxGMyIngf91xczMCCbvV/iEbENEeo8bpNbAVma2bmzeWTgqD4PxUdVZt8IoxAhrikqWbnEE7SOTSu/6/prkMrPbcOHa21vYQOZmjD6tavDpo8m5FwC4SoW6dieN5iPxQgWQULFfx+8IVDeoIukV2EHAXG7Wbuih9bpQjQDMCDtw3n996c6LUWgwVpBW2O5026g+fINV3R1SLhYE3HIKl9w3InbkgefaqK+eeQsmq3+8QbxRRFRYLSMi9sEf6pHAX3oeygVwfeQvzMx+9F3wQGEQLhDYyWj81Xet4ICY5H0/wC32H5o2RmQE3pphFUka2JC9ahCricbhDFgYVv/ADQtzZ0jtwBe3Pjjiu6hzkzgM63IdyO4hR8eTQmrEDIO8sNiy/2n3/TxSaswNMdfEZpSLAhhJcZyCbYx7uC3kD3IrhR5LElgwKIrjcx7+3/mgtNeKS2Lq+GKFCWXL5A/zRZLXAWYwShVbkZDMDyf3n5ih5EJBFUB18/8m1eq9xqQzEA9mDASItkexirNZaNk7uLzzIcJ0wloCTO/ngGpQrqQy9QI4ZiwxOU7bngfFHOma43DKm2EeBkcNyBHJ32ro5MSVbiBuvmfMQAOQsmA29Uqq5aLZeLltHOzNG4JHB+9VtqBjlvbkx3LuV+w+2/xXdJ6cUU28SFuE3Vt3+8pPgEV63p7qMMEZ+mTbTA54++3kfFODKygsDZIFiLFFagR17hKBGHCuShAckT9xXdFnpnQ24uFiWdUXMlQeB+lS09tVDPj1AFDtguTZREQftVep1wTC4cba21KRcTCZI3PkERO3vU7My5RRO42ilarqU6m6GLFpCMS83QexT7ngCkep9fwXC27XcAUsu8uttTtI/TY1H+IPXjqIto+du2AXAGId/ePakdxid/JIk/STFZTx9WYXluSudzTlnmZJPdL+9cIj6mgidvprxQGIHPAETVhJI+gSRAY+K2ABNXKwS0EbwTJAorTuRwW5IieFoa0cSSDiQvB4qYfcEdxIllI2P4rpNidAqO9DrXtEdw1KYki253HuQfce1O7d9bqJctjLod1xRC9p2/NZzTYtBAxdRliDsV8U30wVCHCDuEvbfgt/neKBkJ5ChNcAyn5h1y2DPydh9NAalJEGe0FQwOMLMxTFGzAYAd3KpwGqrV2sdmEEbEf5q+hRlHISHkV1JqL9EAGJ8KJZAMj96E1wFxhuVwIwA7ZTxTC9o7iAtiTiBIU5EqaHKF5C9pHd3jhIP7/AB8UA/RbIWuwB1CL9QJx6v3BQHzIXFFYD+qzYxPuKuvWzp0BOVy3cgobcN3mPB2966vBUr1M1xgDIj5qetftwUs6OoQ2rZ3ZxEAxvtuaT80Mrg1Y9VGPGYFPzGVlXS3DK1sSLhfUHNi3gACTB+aJS+glgjWwALbC5K4TsTJ55EfNTsvNpcmLXLTbaSBlbYbGQOf+KOtXewFkDhYdXuuELKfMDwJoeFQv3XZuqJhsh5WANQdJgqSR1ExJHPwa5b9ORV2L22aDcurcKkt4PxV49Pu/Vc3DLOITmeODRNkhIRxmbi/00bww33A5HHtTufj+oj+ItjU/pB/mDal0RHe47BLYya5IUqvvI81889W1D6q5kHLIhi0tznAcT7k1tP4iu/8A0r0DcIAdwpHvIr58l0g7CADBJO1LhcTbUVDpyW7NznSM/wCxhuROQPzUSjAnyT4PAajXt5hSsSQW52KjxQ5IPMq3lD2k/Y10cQYUgmpUqlYaMsD3Gcqvt3DttxvkO6faasS12jzk0f7T+ajbsOrFSIAOUk/20Fwtm4RbIl79O4oEdNwIzB5qt9JgsqepAkEHfKf+q9prMuARGTSvuPmmV1gvBmJDOoG7QCJ/FLseJ0YZV5DcWWrpQgjcNuVB4pppy7rtIMTj4xoV9OHRHUbsTt5FNdAmKb92Y2Yf7vNffUsb7nwQ+oZ/D+oKFwwyhIVW4LfFMtT3DbuZCZWcjjE7kbe9J/S2C3jbbuF1CygHhh96ZXHYSF+pXILKcItEEAn3HNGxZBzBs38RTMnYAlOp1D21zXfNQ6ZncqOZ9qDZ+0su/UiSzBZQ8HfaPn5FE3bsq4dYPTCi4xDAx52A2ih+suKs03emhtwO4hBuPuP+66mFrLL3exBs66B+P7krbi0oZsU6hIWTiR8ChSjq3UtyhaQXYZBbpHir9Q/UGf1ITJJG+RHn3oa2XRUAk9O4XJXhVgif/fajKpZiWmCwVQFjG5aQpbvHK4wYh7y2iidM+45IqtndGwz6aXRhbNxMSswQTP8AaIkfmti3otx9JB6bXrZa7rBp27LzEyAD4idgAAOAaSemC8HW0Ut6BLjG65V/5hjzADE7QAQd/uDNILie/uNiNFh6kdBfvu0qbl0KcbhVcVxG0LPJ87SKit26rt1uppemWVGROsCpIJ3HEAAwYNE6i8mlYrbdtSXGV2H3RI5B9z5Hk+1e0/qZYkqbaLcthbtlyUdnnYkTHHP/ADT4QBaDEkejFyxBuoP6vdR9JeRSt8G0MbtsByzfia+fpdBIAUAcDIhgf0r6Re0lokkqGa4CHEBZ+QQKxPqXob22XBhfFxjhbQ9yR5I8is0VM2GBFyGmQPZZxzbcqmJxlTzQLqwuoDwAXU+aIt3cUdMADG4YYkMD7V42p3nM4wCfETIrPLZhwLAqWWQDI8nuX5b2plYto8k7f0zbGQ4fz/zSjeJXs7T9XbDfHzRmkvAoJkEgZNOzN70NzyNwiChK7lsqNtmtuVPsVrmnXLNfpJAJP1TBG9WkFniZDmB/1Uxp3R1jYqp5H1LQnru5tFNyOgEAyT2yytHM/FHByqwvFyYQcq3vQ7jBuop2uHLHwF9qlcObCJ2OTRziTQzocrhFGiPcj6a86hS3lGRAf7m8CtBpgbZZA2QxlmIz7twY9xJpZ6VoX/mUfIKtsl3duFXgzTnPBHYOsE9Jrk4gLO3zwDXzZgBY2YtkQg7i7UvNrLidhbfuGMx4oMlZkdoVgLgY8NMx9ojao33RDsCRcuFuwlS9rjngGftXLQEFQVZWJIuE4y0xv9vf4NOeLnCkFj33EfIxlgeI3LULQVWT1DKmBiq+3P71UC65bBAyYKxbIM3uR43rh1QV2LMCEtlyD2sFjYA/NSsK90SIVmtC5DncewpnAAzMw6Fn/IJ2KhVPZn0H1n1H+Xt2bdki2L5LnoodSbloCJIAmD7xFYjVXrwdFdI7ALLACyXkyARO/A3+RR51l26xDx1OqLrsXNtcIgWwBuQBAiY24qrX63AYsbaukZFVKlLW4ABHnYfcxU3NnBICR9UIsmBPqWRJYI7XELu6sO1fk+T+le0l1dy5W6c+97hCldgQCfvHFTsvDM5C27TAlznjnttseZ/alwRLl2LSdRXM27t2VFtvJBECOPfij4WYkD3BOANnqaHTHPfA21Zu1MjH39/0oe1qlD3DKLdW70bNssFC2h5k+D581forTKud1+oqoThbPTUqOdtyfzzQmg1HX6i20CPqnL3btxMlsaUbAAHktz8bU4GOgRuAAsEjqK/4m04R0c99zULLC2mJaDtAHiPJpVproDFWZUyfOJzI/PvWg9etImnhB/osMrrubjOvyfj7wKy7NkpxXMxtcPaFb4pZ6JIqOYyeIMPuBDuv9SDuCcsW94+1c05Rif7eTjO/6UAhckEvDCAGVcZ+CK0tn065glxEBcfWpGJZfcUvkYoKjWJA24pYspBXtg7FzkdvimeiDO2WL3MRl1D3Fffb/FWXNA7mTbZA++RBbu+9N/RdKlmZLsz74jxQPqqRR7hxjYH8QX/4h7wm22AJkoy8f9USPSDZV3IDm4AhnlU4kfmn9vuBIAUARC/vJqDmQQMTwu4yOMiaAWJH4mgQDcTNaezpityUL3ThicS6xz+te0wtPaMEs7A9sZdwA3j7mpet3kW6gzEW1i5bPed+I9qAbWIpbtdgsIhRCgdiRIBHx/xR8eNiB+Yh5GQM1j1FWvOSmXCdMkKi/wBzgwaiclUqwGZXO0inYLEwfiZ/WuakFmaY063ALlpHAaVHIJG4HnnzQDu7srKSpuk2rZjEKgjk+RFO48XGxVmJs/RvUv0+lFxicp6bhbiLyzAcD4pmjxJHLCKF0FrBScOn3FbZPOPJJ+aJnbbarfiYAuPY77kjy8xL6PUt1NxNHct2WdnS+TF+4Mm52JPiOPxVGutG1ko79i5uMcmxnZp+dgPvTTVae3qkKi317NpzcN1gFLtMDH4+fNAa8wyqEe1auWHW11QGLKIMKOdj5PM7RXnMqLzPHUvISVFmU+l2QGFxkJxbHK4SxdzzAO35iKe6gLgOmpAxBCJED5gfb80r0Vhe8sxdTbDqmRtnE+dtxJ4FQfTXb7IiXWS3pn6ru5LFbpjZTyYAJ7pAO1N4GYE0N1UDkoj7jU76hqXdHt2yRbsb3LwGGV2PpH28/NS0V3pWVVD0gwJuXrgPe45P3A8UL64FsabC2XQM8IvjDzB+f3of0q62pKI2y27YfUMDjmg+lQPE7SaEXcWeqmgoIFdQu5au3rZZQrWoKqLjYG5/7+tZ5DkTIjpkoV9mG0Vu9IELbQSZIacwjD29qynqGnKal47V1Ci8pnKOQZ9jI/cVpX0DCJf6YFbBa4okbuCD4FfU9FbC2rZJDBlEFRl4r5gBg4lh2kZQNgtfQ/TfUrPRRQ3UK9oQ8Y+9J+W5YgjqPeMOIIuWepXsE919h3T9hQ2juW3IkhZPM7mirrM8BwABOOPNKrmje1cJtwA25tsd/mKULauo4B6miV0VBAgcQDzQfqDKmnuP9JC9u++U8VDSO7BZMT7rxVnqWnD22BmFjcHHyKJiQuQo9xTMQgJMzaXsmyx6zXAQoPaV3mB5/JqOpRnB7xbYLC21bIK08ke43/WjLmhUlQGNtUJJt2hjl+fFVXrQQHGTP1OxyJ/PNei8fxCCA3U8/m8kUePcTXdC7qA10EkAPtkAg3j5q50yx2W30xjabIJnPIj8CiSlC6xlLIuHWY7KrLkuJ5k+B8U3k8ZVFqLJi2LOzMAxFSA1KkEs8FVllxOG52APnarrmoxEhZyE2lfsyUHckjaunQItoqsr1HGTuOocR8ePYfFVBCxKoxyt3QzC4xYFgNgYM+/wJikG8jMv/moNgxsYcTW5mi09hLdxgq4BLQRu/INPA+wEbAUF6wv9bRySVQ3EFs8loBEckjbf700tpiSTLNcYEnwu0AbRtQXrdu3/AC1y7hlc01y3ct3Md0UOJ39iDH4ovl4149AGc8d2LUTqAXLkZBpd3Yb20wAQ8g/HtV+lLAQOxbjxbVmC42h5j9ZoT1AJ1CVfAFownZ38g/FDdW5eudM7G4Im4MQNj/gUh4+VkcGtfEZzoGUw31zSveQBe/pgF0Y4gICSaT/w8qpdUt/T69x0tktsygERt88VpA+BsupOIBtOFOJKEREGlXpOkR9IjQSyBkBDdMq4cmZ9xt+1NZMZbIdergceQLjG/dR9bAWEgJkCCR29w5FL/VdGHx26GJNpHYbb7gn4kAfmo6f1EghGxZrDTn08Ooo4I8THim+odXtSe/qISLTTJTzx/wC7UIKpBr1CcmUg/MwmrsPbLIy9O5baLtpx/aODPzzRXpmqwUjE/VJZf7f/ABTj1bSm8gyOd1LY6V7ZTc+G+YpFpmGYB7C3YVK/3D3pNuLKQZRwv9wmv0Gqd4UY9qiLjHn7DmaI1Gj/AKguBiW4ID4h194oX0rTdslto8cD7U8VAqgkzj9JPmkCN0OpQdgNiVpbAMDlR7Her9Tai0w53yJqavweJ42qy4MkI5kU346hXBuIZ2LAiIY/cVVctzVzWzO8gjaK6R+a9OjWAZ5t1okGBfypJgCZ8AVFLCqSCYCyCEBY5e3x96ZISONvmqLukRySZBZcWxOE/eKxkOQghZ8ioCCYBfRXtoAwCk5zaO7L4B+aHCKpOK45nuZeTTG7YCiAIC7AChSkUTx8AUWdsdkwPkZGJpdCNbl7BTIx5/qHuB9vkGqbA6q3dOwJOv072pBywulQQD8kgRxz70hTUapJNlv5m2YFuzrVZ3RfIB9hzvP5ojRay9pbq9W2tvrXA1u7YunUYOpkgjnzzwJipOTIXsHr1UsJjC1BfS7f8xb6pXv06dJgwxDsNiPiPJoy0FQpcKqTbcW2ueVWIAA9oJpbpvU7Q9QvbdC1qLpuorKbZD8xBMbmjL7p9SwyXLhDR2lJI5HAPNKFyrg/tCuoZSIT6wAlpmUFsR24ncMTz+KV/wAGqyi8zXFwF0Wlts2R6pnu/MR8mn4Cm0CwlSMTJyDWvBPzFZ/Tr/LazpIMxqbYUoy4g7Egg87H/PvVHyDRDKasVFMABUqRdGPNToVuqGhptriioQuMf8mrLYVFlWY9Qf1cjkEWB7f8UXYXNFYOVDCFU90R4NUIgRpGMhpdLgyiYgfPNKZAQRx1fcYQ6+7fxK7hRRDdymHt3PqxjnbkVixqV/mHYboLpe3c+rzH+K1fq2rVLFw7I2P9J1AcIx5mff2rKaXTllECIHju7fagcAQb7jOMkGxNP6R6lkwVCHJMKpO1aJMye/c/7BwKwuks4OCvvtHIatJptWwPccyRsW+KRyKFOpQDFhuPc+AGjfbJf7qLR/cx4JHBb4pNZctuDG+6z/bRdtzE/PDePmuKSN3OFQRuR1dgqSeQxnt8UG9wL7tuBggyI+TTYaiRv3ztvzQ+os47jht5Iq34Xl8gFJqRvL8UAlgLghH42mCMTUiKlFeAquBJUrdJFA30imZFA6kURLuCyVUzYcyCL1wjY2rrp2lwYgxwIpl6eTaUXc/5ovKXVCFHRZmVB5G4O37+Eest3i4W9dFgt9QQBRl5kxt+JmqEChipuXhmItG1dLMzg8cwf2rz65lVgQJcfHyWrl38RlNTeD2k/wBFVzvNw9w7ge23v5pxpdVbu6c3LgCMdr1oW+iRdggQPIMAz9/Y0JodCy2HVztqH6vUW6LbIw4MwRPxxXtO73EGds63puWt6m0vTYOAJDKRxBABHmTWXJclqnV4qApMdWbYwBt9lsIA6XDmVncAilXrjs5sXAyo1tylq2FwdLQ3k/BJ2+Knp9faKyr3dG926FDmGR7o/wByngj96cX/AOGXvWS7FTftqbouIMhdTyPnbcfM0IlifuOviEVQo0IHpPW7ToLb5acgE9QrkD+RuPvQ+n1znIgLcVZtJcuE7L5M+fG9VelW3dLloLbONz+oLw2RCYkHmZkUbq9KVGKotgKpUx2hrgAk7++1aY9G+pmh1USes6lmwsti3TPVe5aOYLHcDj2qnQuEYQcvdJ4+aDVyzM075EDbLzVotN/tif7l7TWHYN+I1iQgfM0R0oIBHbmMvvUUcpyPP93FEelIz2veNoPIqGvOCme2BwaTG2oxu6EM013PcbE7QKYqTG8/B9qyNjVNIxaZO4JxI/StRoL+QB5jY41tsYmQ1y+3cgjEzP0g8miw5YEEkwPpilxtZMRItmP6bhBK/MnaftRllCqgZl8RjncO7fJp7D4RKh1MQy+WFYowlamRMFO6Arc12KtI96i9XcV8QG7kTJXI11IBZMcbUB6hfVDBGYIgkc5Uf9hJG4B7e2lXqhS4s/QVcEf/AKYsNoJ9jU/zM7IwCmo74mBWW2FzNNqsxLAFmBtEs2RVZ5A9x9q5p7VpTIO4Erdk25uzvAI2PxQb2tyyvAtkhWuESzeCB8039KtoUY3gL5NssELbHffb9anY/uP5jb0BClLXAttntqttMulaO7NzuOJ+1HtqigDKD/TtC2UCGH2G5MbGQPuCTQlhbCMAO0pOYQfVPAAHmrD9DFlZLYWFtSbhDTuTxvHHsKaDMqE9f3FmUMwg1/RJdmOmr3GzcC5kU28/NaT+FfUemi2zk75lbYYmEQAkST7nYfesu1zAAHDvEWrn1HEHggTO9P8A0TUtce9cCdRrGmLW0dMQbuwBIJ3jc0jyJ2e42NRB/ME68m2nT6t05WmGQE8gimWous+VvEdqlAGbce4H4IrP6Z3OoBD93VLG4e2fenSX+woyFhuUuSFOewEEfHvzWnoThu7i7SaFASpgsRNv5b2HzXl05W4chs+8fSdqIR9t2jpsII7DgeQfMfFcu317gUwacUCsIO/k/aBQ2HLUImQrDvT7gtvHOe5X6a560Mu0b5N9Mf3eBSzSXCJY7mMVP1Y/EmpXtWxAlP8ATEMt2VymsjHuGHkAg63IfyoVoAwKcnbf7yaZen3YBBYMF4GW2X4pSLuQmTI8EbL8Cr7F0BGDDErcGAAEFt5k81t1gUzEHfUbNqnW6uKh82AZT2k/AmjNXq71tpwR7YJQgXMiXjgzEERNIrLq5ZnMQAEXLcb+9dvXmtF8Gx6ki4qk3A6bCP0NN4MpReN9xbOgduVR1Z9UzYIqEMi7o3YXb4nz8c0ahbEZbMRvvlG9JrB06AFbboUAcNkXyf45mKai6ssAcumQHYcb7iP81UwsSCWMQyrRAUanbxfGEIDTtkNmpJ6gkqcwUYLlde1/UAY8bDYxTdrgUFjuAfHJrL+s6pvHaMicYxBUDzSPlovMG7uPeIzcSJ//2Q==)"
   ]
  },
  {
   "cell_type": "code",
   "execution_count": 3,
   "metadata": {},
   "outputs": [
    {
     "name": "stdout",
     "output_type": "stream",
     "text": [
      "what is your favorite game?\n",
      " lo\n",
      "Your favorite game is lo and my favorite game is travelling \n",
      "where do you like to travel? no\n",
      "I like traveling to no too \n"
     ]
    }
   ],
   "source": [
    "game = input(\"what is your favorite game?\\n \")\n",
    "\n",
    "print(f\"Your favorite game is {game} and my favorite game is travelling \")\n",
    "loc = input(\"where do you like to travel? \")\n",
    "print(f\"I like traveling to {loc} too \")\n"
   ]
  },
  {
   "cell_type": "markdown",
   "metadata": {},
   "source": [
    "![alt text](https://external-content.duckduckgo.com/iu/?u=https%3A%2F%2Ftse1.mm.bing.net%2Fth%3Fid%3DOIP.cgjiPDAMHVsDChethT9tfQHaEo%26pid%3DApi&f=1)"
   ]
  },
  {
   "cell_type": "markdown",
   "metadata": {},
   "source": [
    "- <font color='yellow'><b> feel the heat </font> \n",
    "- <font color='red'><i> be in danger </font>\n",
    "- <b> watch giraffas \n"
   ]
  },
  {
   "cell_type": "markdown",
   "metadata": {},
   "source": [
    "[Window to Africa](https://www.youtube.com/watch?v=xqhLZ6GJ3I8&ab_channel=RhinoAfricaSafaris)"
   ]
  },
  {
   "cell_type": "markdown",
   "metadata": {},
   "source": [
    "<b> <font color=\"orange\"> Here's more about Africa. [^Click Here]\n",
    "\n",
    "[^Click Here]: https://www.africa.com/."
   ]
  }
 ],
 "metadata": {
  "kernelspec": {
   "display_name": "Python 3",
   "language": "python",
   "name": "python3"
  },
  "language_info": {
   "codemirror_mode": {
    "name": "ipython",
    "version": 3
   },
   "file_extension": ".py",
   "mimetype": "text/x-python",
   "name": "python",
   "nbconvert_exporter": "python",
   "pygments_lexer": "ipython3",
   "version": "3.7.4"
  }
 },
 "nbformat": 4,
 "nbformat_minor": 2
}
